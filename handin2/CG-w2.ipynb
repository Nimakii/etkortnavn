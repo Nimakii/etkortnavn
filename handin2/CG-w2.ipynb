{
 "cells": [
  {
   "cell_type": "code",
   "execution_count": 1,
   "id": "c7b7414f",
   "metadata": {},
   "outputs": [
    {
     "name": "stdout",
     "output_type": "stream",
     "text": [
      "43 errors\n",
      "142678 errors\n",
      "281412 errors\n"
     ]
    }
   ],
   "source": [
    "import random\n",
    "import matplotlib.pyplot as plt\n",
    "\n",
    "def left_turn1(p1,p2,p3):\n",
    "    x1,y1 = p1\n",
    "    x2,y2 = p2\n",
    "    x3,y3 = p3\n",
    "    return x1*(y2-y3)+x2*(y3-y1)+x3*(y1-y2) >= 0\n",
    "def left_turn2(p1,p2,p3):\n",
    "    x1,y1 = p1\n",
    "    x2,y2 = p2\n",
    "    x3,y3 = p3\n",
    "    return x1*y2-x1*y3+x2*y3-x2*y1+x3*y1-x3*y2 >= 0\n",
    "def left_turn3(p1,p2,p3):\n",
    "    x1,y1 = p1\n",
    "    x2,y2 = p2\n",
    "    x3,y3 = p3\n",
    "    return x1*y2+x2*y3+x3*y1-x1*y3-x2*y1-x3*y2 >= 0\n",
    "\n",
    "def poly_test(n):\n",
    "    x,y = 0,0\n",
    "    resx = []\n",
    "    resy = []\n",
    "    for i in range(n):\n",
    "        x += random.uniform(0, 1)\n",
    "        y = x**2 #<-- also a source of error\n",
    "        resx.append(x)\n",
    "        resy.append(y)\n",
    "    return resx,resy\n",
    "\n",
    "def left_turn_test(left_turn,xvals,yvals,n):\n",
    "    #xvals,yvals = poly_test(n)\n",
    "    errors = 0\n",
    "    for i in range(n-3):\n",
    "        if not left_turn( (xvals[i],yvals[i]),(xvals[i+1],yvals[i+1]),(xvals[i+2],yvals[i+2]) ):\n",
    "            errors += 1\n",
    "    print(errors,\"errors\")\n",
    "\n",
    "n = 1000000\n",
    "xvals,yvals = poly_test(n)\n",
    "left_turn_test(left_turn1,xvals,yvals,n)\n",
    "left_turn_test(left_turn2,xvals,yvals,n)\n",
    "left_turn_test(left_turn3,xvals,yvals,n)"
   ]
  },
  {
   "cell_type": "code",
   "execution_count": 2,
   "id": "3866fb39",
   "metadata": {},
   "outputs": [
    {
     "name": "stdout",
     "output_type": "stream",
     "text": [
      "done 324\n"
     ]
    }
   ],
   "source": [
    "def float_test():\n",
    "    n = 1\n",
    "    while 10**(-n) != 10**(-(n+1)):\n",
    "        n += 1\n",
    "    print(\"done\",n)\n",
    "float_test()"
   ]
  },
  {
   "cell_type": "code",
   "execution_count": 3,
   "id": "dd2d168e",
   "metadata": {},
   "outputs": [],
   "source": [
    "#setup: f1 = m1*2^x1, f2 = m2*2^x2, mi 24 bits, xi 8 bits\n",
    "#q1: how many bits for f1*f2?\n",
    "#A1: f1f2 = m1m2*2^(x1+x2), 47 and 9 (sign bit)\n",
    "#q2: how many bits for f1+f2?\n",
    "#A2: f1+f2 = m1 2^x1 + m2 2^x2\n",
    "#2**(23+128) = 2**(151) largest number\n",
    "#2**(-128) smallest number\n",
    "#279 in total"
   ]
  },
  {
   "cell_type": "code",
   "execution_count": 143,
   "id": "550d028e",
   "metadata": {},
   "outputs": [],
   "source": [
    "\"\"\"\n",
    "Data generation\n",
    "\"\"\"\n",
    "import random\n",
    "\n",
    "def generate_circle(n,radius=1):\n",
    "    \"\"\"\n",
    "    Data generated on a circle\n",
    "    \"\"\"\n",
    "    pts = []\n",
    "    count = 0\n",
    "    while len(pts) < n:\n",
    "        x,y = random.uniform(-radius,radius),random.uniform(-radius,radius)\n",
    "        if x*x+y*y <= radius:\n",
    "            pts.append((x,y))\n",
    "        count+=1\n",
    "    #print(count)\n",
    "    return pts\n",
    "\n",
    "def generate_square(n,length=1):\n",
    "    \"\"\"\n",
    "    Data generated on a square\n",
    "    \"\"\"\n",
    "    return [(random.uniform(0, length),random.uniform(0, length)) for i in range(n)]\n",
    "\n",
    "def generate_poly(n):\n",
    "    \"\"\"\n",
    "    Data generated on the curve y = x**2\n",
    "    \"\"\"\n",
    "    x,y = 0,0\n",
    "    pts = []\n",
    "    for _ in range(n):\n",
    "        x += random.uniform(0, 1)\n",
    "        y = x**2\n",
    "        pts.append((x,y))\n",
    "    return pts\n",
    "\n",
    "generators = [generate_circle,generate_square,generate_poly]\n",
    "\n",
    "def plot(random_points,ch):\n",
    "    plt.plot(*list(zip(*random_points)),\"r.\")\n",
    "    plt.plot(*list(zip(*ch)),\"g-\")\n",
    "    plt.show()\n",
    "    \n",
    "def left_turn(p1,p2,p3):\n",
    "    x1,y1 = p1\n",
    "    x2,y2 = p2\n",
    "    x3,y3 = p3\n",
    "    return x1*(y2-y3)+x2*(y3-y1)+x3*(y1-y2) >= 0\n",
    "\n",
    "def test_convex_hull(CH_algo,n):\n",
    "    for generator in generators:\n",
    "        print(generator.__doc__)\n",
    "        random_points = generator(n)\n",
    "        ch = CH_algo(random_points)\n",
    "        plot(random_points,ch)"
   ]
  },
  {
   "cell_type": "code",
   "execution_count": 144,
   "id": "7105966f",
   "metadata": {},
   "outputs": [
    {
     "name": "stdout",
     "output_type": "stream",
     "text": [
      "\n",
      "    Data generated on a circle\n",
      "    \n"
     ]
    },
    {
     "data": {
      "image/png": "[encoded data removed]",
      "text/plain": [
       "<Figure size 432x288 with 1 Axes>"
      ]
     },
     "metadata": {
      "needs_background": "light"
     },
     "output_type": "display_data"
    },
    {
     "name": "stdout",
     "output_type": "stream",
     "text": [
      "\n",
      "    Data generated on a square\n",
      "    \n"
     ]
    },
    {
     "data": {
      "image/png": "[encoded data removed]",
      "text/plain": [
       "<Figure size 432x288 with 1 Axes>"
      ]
     },
     "metadata": {
      "needs_background": "light"
     },
     "output_type": "display_data"
    },
    {
     "name": "stdout",
     "output_type": "stream",
     "text": [
      "\n",
      "    Data generated on the curve y = x**2\n",
      "    \n"
     ]
    },
    {
     "data": {
      "image/png": "[encoded data removed]",
      "text/plain": [
       "<Figure size 432x288 with 1 Axes>"
      ]
     },
     "metadata": {
      "needs_background": "light"
     },
     "output_type": "display_data"
    }
   ],
   "source": [
    "\"\"\"\n",
    "Part A Graham's Scan\n",
    "\"\"\"\n",
    "\n",
    "def INC_CH(pointss):\n",
    "    \"\"\"\n",
    "    Graham's Scan\n",
    "    \"\"\"\n",
    "    points = sorted(pointss)\n",
    "    upper = points[0:2]\n",
    "    for p in points[2:]:\n",
    "        while len(upper)>=2 and left_turn(upper[-2], upper[-1], p):\n",
    "            upper.pop()\n",
    "        upper.append(p)\n",
    "    points.reverse()\n",
    "    lower = points[0:2]\n",
    "    for p in points[2:]:\n",
    "        while len(lower)>=2 and left_turn(lower[-2], lower[-1], p):\n",
    "            lower.pop()\n",
    "        lower.append(p)\n",
    "    return upper + lower\n",
    "\n",
    "test_convex_hull(INC_CH,20)"
   ]
  },
  {
   "cell_type": "code",
   "execution_count": null,
   "id": "c8533978",
   "metadata": {},
   "outputs": [
    {
     "name": "stdout",
     "output_type": "stream",
     "text": [
      "\n",
      "    Data generated on a circle\n",
      "    \n"
     ]
    },
    {
     "data": {
      "image/png": "[encoded data removed]",
      "text/plain": [
       "<Figure size 432x288 with 1 Axes>"
      ]
     },
     "metadata": {
      "needs_background": "light"
     },
     "output_type": "display_data"
    },
    {
     "name": "stdout",
     "output_type": "stream",
     "text": [
      "\n",
      "    Data generated on a square\n",
      "    \n"
     ]
    }
   ],
   "source": [
    "\"\"\"\n",
    "Part B Gift Wrapping\n",
    "\"\"\"\n",
    "\n",
    "from copy import deepcopy\n",
    "\n",
    "def GIFT_CH(pts):\n",
    "    \"\"\"\n",
    "    Gift Wrapping\n",
    "    \"\"\"\n",
    "    points = deepcopy(pts)\n",
    "    p_start = min(points)\n",
    "    CH = [p_start]\n",
    "    p_left = p_start\n",
    "    q = points[0] if points[0] == p_start else points[1]\n",
    "    while True:\n",
    "        for z in points:\n",
    "            if z == q:\n",
    "                continue\n",
    "            if not left_turn(p_left,z,q):\n",
    "                q = z\n",
    "        CH.append(q)\n",
    "        if q in points:\n",
    "            points.remove(q)\n",
    "        if points:\n",
    "            p_left = q\n",
    "            q = points[0]\n",
    "        if p_left == p_start:\n",
    "            break\n",
    "    return CH\n",
    "\n",
    "test_convex_hull(GIFT_CH,10)"
   ]
  }
 ],
 "metadata": {
  "kernelspec": {
   "display_name": "Python 3",
   "language": "python",
   "name": "python3"
  },
  "language_info": {
   "codemirror_mode": {
    "name": "ipython",
    "version": 3
   },
   "file_extension": ".py",
   "mimetype": "text/x-python",
   "name": "python",
   "nbconvert_exporter": "python",
   "pygments_lexer": "ipython3",
   "version": "3.9.2"
  }
 },
 "nbformat": 4,
 "nbformat_minor": 5
}
