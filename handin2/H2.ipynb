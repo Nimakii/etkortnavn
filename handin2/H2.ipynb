{
 "cells": [
  {
   "cell_type": "code",
   "execution_count": 41,
   "metadata": {},
   "outputs": [],
   "source": [
    "\"\"\"\n",
    "Data generation\n",
    "\"\"\"\n",
    "import random\n",
    "import math\n",
    "import matplotlib.pyplot as plt\n",
    "\n",
    "def generate_circle(n,radius=1):\n",
    "    \"\"\"\n",
    "    Data generated on a circle\n",
    "    \"\"\"\n",
    "    pts = []\n",
    "    count = 0\n",
    "    while len(pts) < n:\n",
    "        x,y = random.uniform(-radius,radius),random.uniform(-radius,radius)\n",
    " \n",
    "        if x*x+y*y <= radius:\n",
    "            x+=1\n",
    "            y+=1\n",
    "            pts.append((x,y))\n",
    "        count+=1\n",
    "    # print(\"Done generating\")\n",
    "    return pts\n",
    "    \n",
    "def generate_circle_circumference(n,radius=1):\n",
    "    \"\"\"\n",
    "    Data generated on the boundary of a circle\n",
    "    \"\"\"\n",
    "    points = []\n",
    "    for _ in range(n):\n",
    "        angle = random.random()\n",
    "        x = radius*math.cos(angle*2*math.pi)\n",
    "        y = radius*math.sin(angle*2*math.pi)\n",
    "        points.append((x,y))\n",
    "    return points\n",
    "\n",
    "def generate_square(n,length=1):\n",
    "    \"\"\"\n",
    "    Data generated on a square\n",
    "    \"\"\"\n",
    "    return [(random.uniform(0, length),random.uniform(0, length)) for i in range(n)]\n",
    "\n",
    "def generate_poly(n):\n",
    "    \"\"\"\n",
    "    Data generated on the curve y = x**2\n",
    "    \"\"\"\n",
    "    x,y = 0,0\n",
    "    pts = []\n",
    "    for _ in range(n):\n",
    "        x += random.uniform(0, 1)\n",
    "        y = x**2\n",
    "        pts.append((x,y))\n",
    "    return pts\n",
    "\n",
    "def generate_fixed_sized_disk(n,h):\n",
    "    \"\"\"\n",
    "    Data generated on a disk, and ensures hullsize = h\n",
    "    \"\"\"\n",
    "    inner_points = generate_circle(n-h)\n",
    "    sqrt2 = math.sqrt(2)\n",
    "    hull_points = [ (sqrt2,sqrt2) , (-sqrt2,sqrt2) , (sqrt2,-sqrt2) , (-sqrt2,-sqrt2) ]\n",
    "    return inner_points + hull_points + generate_circle_circumference(h-4,radius=2)\n",
    "\n",
    "# generators = [generate_circle,generate_circle_circumference,generate_square,generate_poly]\n",
    "generators = [generate_square, generate_circle_circumference]\n",
    "def plot(random_points,ch):\n",
    "    plt.plot(*list(zip(*random_points)),\"r.\")\n",
    "    plt.plot(*list(zip(*ch)),\"g-\")\n",
    "    plt.show()\n",
    "counter_left_turn = 0\n",
    "def left_turn(p1,p2,p3):\n",
    "    x1,y1 = p1\n",
    "    x2,y2 = p2\n",
    "    x3,y3 = p3\n",
    "    global counter_left_turn\n",
    "    counter_left_turn += 1\n",
    "    return x1*(y2-y3)+x2*(y3-y1)+x3*(y1-y2) >= 0\n",
    "\n",
    "def test_convex_hull(CH_algo,n):\n",
    "    for generator in generators:\n",
    "        print(generator.__doc__)\n",
    "        random_points = generator(n)\n",
    "        ch = CH_algo(random_points)\n",
    "        plot(random_points,ch)\n",
    "    # print(generate_fixed_sized_disk.__doc__)\n",
    "    # random_points = generate_fixed_sized_disk(n,10)\n",
    "    # ch = CH_algo(random_points)\n",
    "    # plot(random_points,ch)"
   ]
  },
  {
   "cell_type": "code",
   "execution_count": 42,
   "metadata": {},
   "outputs": [
    {
     "name": "stdout",
     "output_type": "stream",
     "text": [
      "\n",
      "    Data generated on a square\n",
      "    \n"
     ]
    },
    {
     "data": {
      "image/png": "[encoded data removed]",
      "text/plain": [
       "<Figure size 432x288 with 1 Axes>"
      ]
     },
     "metadata": {
      "needs_background": "light"
     },
     "output_type": "display_data"
    },
    {
     "name": "stdout",
     "output_type": "stream",
     "text": [
      "\n",
      "    Data generated on the boundary of a circle\n",
      "    \n"
     ]
    },
    {
     "data": {
      "image/png": "[encoded data removed]",
      "text/plain": [
       "<Figure size 432x288 with 1 Axes>"
      ]
     },
     "metadata": {
      "needs_background": "light"
     },
     "output_type": "display_data"
    }
   ],
   "source": [
    "def partition(arr, low, high):\n",
    "    i = (low-1)         # index of smaller element\n",
    "    pivot = arr[high]     # pivot\n",
    "  \n",
    "    for j in range(low, high):\n",
    "  \n",
    "        # If current element is smaller than or\n",
    "        # equal to pivot\n",
    "        if arr[j] <= pivot:\n",
    "  \n",
    "            # increment index of smaller element\n",
    "            i = i+1\n",
    "            arr[i], arr[j] = arr[j], arr[i]\n",
    "  \n",
    "    arr[i+1], arr[high] = arr[high], arr[i+1]\n",
    "    return (i+1)\n",
    "  \n",
    "# The main function that implements QuickSort\n",
    "# arr[] --> Array to be sorted,\n",
    "# low  --> Starting index,\n",
    "# high  --> Ending index\n",
    "  \n",
    "# Function to do Quick sort\n",
    "  \n",
    "def quickSort(arr, low, high):\n",
    "    if len(arr) == 1:\n",
    "        return arr\n",
    "    if low < high:\n",
    "  \n",
    "        # pi is partitioning index, arr[p] is now\n",
    "        # at right place\n",
    "        pi = partition(arr, low, high)\n",
    "  \n",
    "        # Separately sort elements before\n",
    "        # partition and after partition\n",
    "        quickSort(arr, low, pi-1)\n",
    "        quickSort(arr, pi+1, high)\n",
    "  \n",
    "\n",
    "\"\"\"\n",
    "Part A Graham's Scan\n",
    "\"\"\"\n",
    "\n",
    "def INC_CH(pointss):\n",
    "    \"\"\"\n",
    "    Graham's Scan\n",
    "    \"\"\"\n",
    "    points = pointss\n",
    "    quickSort(points, 0, len(points)-1)\n",
    "    # print(points)\n",
    "    # points = sorted(pointss)\n",
    "    upper = points[0:2]\n",
    "    for p in points[2:]:\n",
    "        while len(upper)>=2 and left_turn(upper[-2], upper[-1], p):\n",
    "            upper.pop()\n",
    "        upper.append(p)\n",
    "    points.reverse()\n",
    "    lower = points[0:2]\n",
    "    for p in points[2:]:\n",
    "        while len(lower)>=2 and left_turn(lower[-2], lower[-1], p):\n",
    "            lower.pop()\n",
    "        lower.append(p)\n",
    "    return upper + lower\n",
    "\n",
    "test_convex_hull(INC_CH,30)"
   ]
  },
  {
   "cell_type": "code",
   "execution_count": 43,
   "metadata": {
    "scrolled": true
   },
   "outputs": [
    {
     "name": "stdout",
     "output_type": "stream",
     "text": [
      "\n",
      "    Data generated on a square\n",
      "    \n"
     ]
    },
    {
     "data": {
      "image/png": "[encoded data removed]",
      "text/plain": [
       "<Figure size 432x288 with 1 Axes>"
      ]
     },
     "metadata": {
      "needs_background": "light"
     },
     "output_type": "display_data"
    },
    {
     "name": "stdout",
     "output_type": "stream",
     "text": [
      "\n",
      "    Data generated on the boundary of a circle\n",
      "    \n"
     ]
    },
    {
     "data": {
      "image/png": "[encoded data removed]",
      "text/plain": [
       "<Figure size 432x288 with 1 Axes>"
      ]
     },
     "metadata": {
      "needs_background": "light"
     },
     "output_type": "display_data"
    }
   ],
   "source": [
    "\"\"\"\n",
    "Part B Gift Wrapping\n",
    "\"\"\"\n",
    "\n",
    "from copy import deepcopy\n",
    "\n",
    "def GIFT_CH(pts):\n",
    "    \"\"\"\n",
    "    Gift Wrapping\n",
    "    \"\"\"\n",
    "    count = 0\n",
    "    points = deepcopy(pts)\n",
    "    p_start = min(points)\n",
    "    CH = [p_start]\n",
    "    p_left = p_start\n",
    "    q = points[0] if not points[0] == p_start else points[1]\n",
    "    while True:\n",
    "        for z in points:\n",
    "            if z == q:\n",
    "                continue\n",
    "            if not left_turn(p_left,z,q):\n",
    "                q = z\n",
    "        CH.append(q)\n",
    "        if q in points:\n",
    "            points.remove(q)\n",
    "        if points:\n",
    "            p_left = q\n",
    "            q = points[0]\n",
    "        else:\n",
    "            break\n",
    "        if p_left == p_start:\n",
    "            break\n",
    "    return CH\n",
    "\n",
    "test_convex_hull(GIFT_CH,250)"
   ]
  },
  {
   "cell_type": "code",
   "execution_count": 44,
   "metadata": {},
   "outputs": [],
   "source": [
    "def INC_CH_upper(pointss):\n",
    "    \"\"\"\n",
    "    Graham's Scan\n",
    "    \"\"\"\n",
    "    points = pointss\n",
    "    quickSort(points, 0, len(points)-1)\n",
    "    # print(points)\n",
    "    # points = sorted(pointss)\n",
    "    upper = points[0:2]\n",
    "    for p in points[2:]:\n",
    "        while len(upper)>=2 and left_turn(upper[-2], upper[-1], p):\n",
    "            upper.pop()\n",
    "        upper.append(p)\n",
    "    points.reverse()\n",
    "    lower = points[0:2]\n",
    "    for p in points[2:]:\n",
    "        while len(lower)>=2 and left_turn(lower[-2], lower[-1], p):\n",
    "            lower.pop()\n",
    "        lower.append(p)\n",
    "    return upper\n",
    "def INC_CH_lower(pointss):\n",
    "    \"\"\"\n",
    "    Graham's Scan\n",
    "    \"\"\"\n",
    "    points = pointss\n",
    "    quickSort(points, 0, len(points)-1)\n",
    "    # print(points)\n",
    "    # points = sorted(pointss)\n",
    "    upper = points[0:2]\n",
    "    for p in points[2:]:\n",
    "        while len(upper)>=2 and left_turn(upper[-2], upper[-1], p):\n",
    "            upper.pop()\n",
    "        upper.append(p)\n",
    "    points.reverse()\n",
    "    lower = points[0:2]\n",
    "    for p in points[2:]:\n",
    "        while len(lower)>=2 and left_turn(lower[-2], lower[-1], p):\n",
    "            lower.pop()\n",
    "        lower.append(p)\n",
    "    return lower"
   ]
  },
  {
   "cell_type": "code",
   "execution_count": 45,
   "metadata": {},
   "outputs": [
    {
     "name": "stdout",
     "output_type": "stream",
     "text": [
      "\n",
      "    Data generated on a square\n",
      "    \n"
     ]
    },
    {
     "data": {
      "image/png": "[encoded data removed]",
      "text/plain": [
       "<Figure size 432x288 with 1 Axes>"
      ]
     },
     "metadata": {
      "needs_background": "light"
     },
     "output_type": "display_data"
    },
    {
     "name": "stdout",
     "output_type": "stream",
     "text": [
      "\n",
      "    Data generated on the boundary of a circle\n",
      "    \n"
     ]
    },
    {
     "data": {
      "image/png": "[encoded data removed]",
      "text/plain": [
       "<Figure size 432x288 with 1 Axes>"
      ]
     },
     "metadata": {
      "needs_background": "light"
     },
     "output_type": "display_data"
    },
    {
     "name": "stdout",
     "output_type": "stream",
     "text": [
      "\n",
      "    Data generated on a square\n",
      "    \n"
     ]
    },
    {
     "data": {
      "image/png": "[encoded data removed]",
      "text/plain": [
       "<Figure size 432x288 with 1 Axes>"
      ]
     },
     "metadata": {
      "needs_background": "light"
     },
     "output_type": "display_data"
    },
    {
     "name": "stdout",
     "output_type": "stream",
     "text": [
      "\n",
      "    Data generated on the boundary of a circle\n",
      "    \n"
     ]
    },
    {
     "data": {
      "image/png": "[encoded data removed]",
      "text/plain": [
       "<Figure size 432x288 with 1 Axes>"
      ]
     },
     "metadata": {
      "needs_background": "light"
     },
     "output_type": "display_data"
    }
   ],
   "source": [
    "\"\"\"\n",
    "Part C Chan's Algorithm\n",
    "\"\"\"\n",
    "TURN_LEFT, TURN_RIGHT, TURN_NONE = (1, -1, 0)\n",
    "\n",
    "from copy import deepcopy\n",
    "import math\n",
    "def compute_tangent_binary(pts, p):\n",
    "    low = 0\n",
    "    high = len(pts)-1\n",
    "    counter = 0\n",
    "    if(len(pts)==2 and p in pts):\n",
    "        # print(\"stop\")\n",
    "        # print(pts)\n",
    "        # print(\"short circuit\")\n",
    "        # print(pts)\n",
    "        res= max(pts)\n",
    "        # print(res)\n",
    "        return res\n",
    "    while(low <= high and counter<10000):\n",
    "        # print(counter)\n",
    "        mid = math.floor((low+high)/2)\n",
    "        counter += 1\n",
    "        if mid+1>=len(pts):\n",
    "            # print(mid, len(pts))\n",
    "            # print(\"Early stop?\")\n",
    "            return pts[mid]\n",
    "        if (left_turn(p,pts[mid+1],pts[mid]) and \\\n",
    "            not left_turn(p,pts[mid],pts[mid-1])):\n",
    "            # print(\"Found best\")\n",
    "            return pts[mid]\n",
    "        if not left_turn(p,pts[mid+1],pts[mid]):\n",
    "            low = mid + 1\n",
    "        else:\n",
    "            high = mid - 1\n",
    "    print(\"Ran the funky\")\n",
    "\n",
    "def compute_tangent(pts, p):\n",
    "    if len(pts) == 1:\n",
    "        return pts[0]\n",
    "    q = pts[0] if not pts[0] == p else pts[1]\n",
    "    for z in pts:\n",
    "        if z == q or z == p:\n",
    "            continue\n",
    "        if not left_turn(p,z,q):\n",
    "            q = z\n",
    "    return q\n",
    "\n",
    "def UHwithSize(pts,h):\n",
    "    n = len(pts)\n",
    "    # Arbitrarily partition P into m =n/h subsets P1, · · · , Pm of size h each\n",
    "    points = deepcopy(pts)\n",
    "    m = math.ceil(n/h)\n",
    "    partitions = [points[h*i:h*(i+1)] for i in range(m)]\n",
    "    # Compute upper hull Ui of Pi, i = 1, · · · , m. . Next, we merge the upper hulls\n",
    "    upper_hulls = [INC_CH_upper(partition) for partition in partitions] #recursively?\n",
    "    hull_points = [pt for hull in upper_hulls for pt in hull]\n",
    "    reversed_hulls = [hull[::-1] for hull in upper_hulls]\n",
    "    # print(reversed_hulls)\n",
    "    # Initialize the upper hull U = {}\n",
    "    # Initialize p ← point with smallest x-coordinate\n",
    "    final_hull = []\n",
    "    p = min(points)\n",
    "    maxx = max(points)[0]\n",
    "    # print(\"maxx:\", maxx)\n",
    "    # Initialize l ← upwards ray from p\n",
    "    q = compute_tangent(hull_points,p) ## what is this used for\n",
    "    ## ray is now p -> q, but not used for anything\n",
    "    for _ in range(h):\n",
    "        final_hull.append(p)\n",
    "        if p[0] == maxx:\n",
    "            break\n",
    "        # print(\"p: \", p)\n",
    "        # print(\"hulls: \", reversed_hulls)\n",
    "\n",
    "        #compute the upper tangent t_i from p to U_i (if it exists)\n",
    "        # tangent_points_bin = [compute_tangent_binary(hull,p) for hull in reversed_hulls if len(hull) > 0 ]\n",
    "        # print(\"binary: \", tangent_points)\n",
    "        tangent_points = [compute_tangent_binary(hull,p) for hull in reversed_hulls if len(hull) > 0 ]\n",
    "        # print(\"point\",p)\n",
    "        # print(\"linear: \", tangent_points)\n",
    "        # if(tangent_points_bin!=tangent_points):\n",
    "        #     print(\"linear: \", tangent_points)\n",
    "        #     print(\"bin: \", tangent_points_bin)\n",
    "        #     print(\"FUCKUP!!!!!!!!!!!!!!!!!!!!!!!!!!!!!!\")\n",
    "            # with open(\"failing_case.txt\", 'w') as f:\n",
    "            #     f.writelines([f\"{str(pt[0])} {str(pt[1])}\\n\" for pt in pts])\n",
    "        #t ← tangent that makes the smallest angle with l\n",
    "        #p ← the other tangent point on t . This is like the “change of pivot” in gift wrapping\n",
    "        #l ← t . This is like “rotating the ray” in gift wrapping\n",
    "        p = compute_tangent(tangent_points,p)\n",
    "        #Remove any vertex of every Ui that is to the left of p . This could make some Ui empty\n",
    "        for hull in reversed_hulls:\n",
    "            for i in range(len(hull)-1, 0,-1):\n",
    "                # if(hull[i][0]<=(p[0]+0.001)):\n",
    "                if(hull[i][0]<=p[0]):\n",
    "                    hull.pop()\n",
    "                else:\n",
    "                    break\n",
    "        # reversed_hulls = [ [point for point in hull if point[0]>p[0]] for hull in reversed_hulls ]\n",
    "    return p[0] == maxx, final_hull\n",
    "\n",
    "def LHwithSize(pts,h):\n",
    "    n = len(pts)\n",
    "    # Arbitrarily partition P into m =n/h subsets P1, · · · , Pm of size h each\n",
    "    points = deepcopy(pts)\n",
    "    m = math.ceil(n/h)\n",
    "    partitions = [points[h*i:h*(i+1)] for i in range(m)]\n",
    "    # Compute upper hull Ui of Pi, i = 1, · · · , m. . Next, we merge the upper hulls\n",
    "    upper_hulls = [INC_CH_lower(partition) for partition in partitions] #recursively?\n",
    "    hull_points = [pt for hull in upper_hulls for pt in hull]\n",
    "    reversed_hulls = [hull[::-1] for hull in upper_hulls]\n",
    "\n",
    "    # Initialize the upper hull U = {}\n",
    "    # Initialize p ← point with smallest x-coordinate\n",
    "    final_hull = []\n",
    "    p = max(points)\n",
    "    minx = min(points)[0]\n",
    "    # Initialize l ← upwards ray from p\n",
    "    q = compute_tangent(hull_points,p) ## what is this used for\n",
    "    ## ray is now p -> q, but not used for anything\n",
    "    for _ in range(h):\n",
    "        final_hull.append(p)\n",
    "        if p[0] == minx:\n",
    "            break\n",
    "        #compute the upper tangent t_i from p to U_i (if it exists)\n",
    "        tangent_points = [compute_tangent_binary(hull,p) for hull in reversed_hulls if len(hull) > 0 ]\n",
    "        #t ← tangent that makes the smallest angle with l\n",
    "        #p ← the other tangent point on t . This is like the “change of pivot” in gift wrapping\n",
    "        #l ← t . This is like “rotating the ray” in gift wrapping\n",
    "        p = compute_tangent_binary(tangent_points,p)\n",
    "        #Remove any vertex of every Ui that is to the right of p . This could make some Ui empty\n",
    "        for hull in reversed_hulls:\n",
    "            for i in range(len(hull)-1, 0,-1):\n",
    "                if(p==None):\n",
    "                    print(\"About to fail\")\n",
    "                if(hull[i][0]>=p[0]):\n",
    "                    hull.pop()\n",
    "                else:\n",
    "                    break\n",
    "        # reversed_hulls = [ [point for point in hull if point[0]<p[0]] for hull in reversed_hulls ]\n",
    "    return p[0] == minx, final_hull\n",
    "\n",
    "def CH_CH(pts):\n",
    "    if isinstance(pts,int):\n",
    "        return [pts]\n",
    "    if len(pts) <= 1:\n",
    "        return pts\n",
    "    n = len(pts)\n",
    "    # n = math.ceil(math.log2(math.log2(n)))\n",
    "    #for i in range(math.ceil(math.log(math.log(n)))):\n",
    "    for i in range(2,n): #unreachable to go above log(log(n)) and above gives errors\n",
    "        success, upper_hull = UHwithSize(pts,2**(2**i))\n",
    "        if success:\n",
    "            break\n",
    "    # print(\"done upper\")\n",
    "    # for i in range(4,n):\n",
    "    #     # print(\"loop\")\n",
    "    #     success, lower_hull = LHwithSize(pts,2**(2**i))\n",
    "    #     if success:\n",
    "    #         break\n",
    "    return upper_hull +[upper_hull[0]] #lower_hull + \n",
    "\n",
    "test_convex_hull(CH_CH,2**8)\n",
    "test_convex_hull(INC_CH_upper, (2**8)+100)"
   ]
  },
  {
   "cell_type": "code",
   "execution_count": 46,
   "metadata": {
    "scrolled": false
   },
   "outputs": [],
   "source": [
    "# def compute_tangent_binary(pts, p):\n",
    "#     low = 0\n",
    "#     high = len(pts)-1\n",
    "#     while(low <= high):\n",
    "#         mid = math.floor((low+high)/2)\n",
    "#         print(low,mid,high)\n",
    "#         if mid+1>=len(pts):\n",
    "#             return pts[mid]\n",
    "#         if (left_turn(p,pts[mid-1],pts[mid]) and \\\n",
    "#             not left_turn(p,pts[mid],pts[mid+1])):\n",
    "#             return pts[mid]\n",
    "#         if not left_turn(p,pts[mid-1],pts[mid]):\n",
    "#             high = mid - 1\n",
    "#         else:\n",
    "#             low = mid + 1\n",
    "        \n",
    "# pts = [ (x,math.log(x)) for x in range(2,70) ]\n",
    "# p = (10,3)\n",
    "# plot((p,*pts), (p,compute_tangent_binary(pts,p)))\n",
    "# plot((p,*pts), (p,compute_tangent(pts,p)))"
   ]
  },
  {
   "cell_type": "code",
   "execution_count": 57,
   "metadata": {},
   "outputs": [],
   "source": [
    "from timeit import Timer\n",
    "import time\n",
    "# def timeAlgorithm(alg, dataset):\n",
    "#     res = []\n",
    "#     res_counter = []\n",
    "#     for i in range(3,12):\n",
    "#         global counter_left_turn\n",
    "#         counter_left_turn = 0\n",
    "#         num_points = 2**i\n",
    "#         t = Timer(\"CH_algo\")\n",
    "#         start_time = time.time()\n",
    "#         ch = alg(dataset)\n",
    "#         end = time.time()\n",
    "#         res.append([num_points, end-start_time])\n",
    "#         res_counter.append([num_points,counter_left_turn])\n",
    "#     return res, res_counter\n",
    "def timeAlgorithm(alg, datasets):\n",
    "    res = []\n",
    "    res_counter = []\n",
    "    for dataset in datasets:\n",
    "        global counter_left_turn\n",
    "        counter_left_turn = 0\n",
    "        t = Timer(\"CH_algo\")\n",
    "        start_time = time.time()\n",
    "        ch = alg(dataset)\n",
    "        end = time.time()\n",
    "        #Full hull size\n",
    "        hullsize = len(INC_CH(dataset))\n",
    "        res.append([len(dataset), end-start_time])\n",
    "        res_counter.append([len(dataset),hullsize, counter_left_turn])\n",
    "    return res, res_counter\n",
    "\n",
    "def experiment(datasets, algos):\n",
    "    resDict = {}\n",
    "    for algo in algos:\n",
    "        resDict[algo.__name__] = timeAlgorithm(algo, datasets)\n",
    "    return resDict\n",
    "\n",
    "def runAndPlot(generator, max):\n",
    "    datasets = []\n",
    "    for i in range(3,max):\n",
    "        datasets.append(generator(2**i))\n",
    "    res = experiment(datasets, [CH_CH, INC_CH, GIFT_CH])\n",
    "    print(res)\n",
    "\n",
    "\n",
    "\n",
    "# def experimentAndPlot(generator):\n",
    "\n",
    "#     res_chan, res_counter_chan = timeAlgorithm(CH_CH, generator)\n",
    "#     print(\"Chan counter: \", res_counter_chan)\n",
    "#     x, y = list(zip(*res_chan))\n",
    "#     x1, y1 = list(zip(*res_counter_chan))\n",
    "#     adjusted = []\n",
    "#     adjusted_c_chan = []\n",
    "#     for i in range(len(y)):\n",
    "#         adjusted.append((x[i], y[i]/(x[i]*math.log(x[i]))))\n",
    "#         adjusted_c_chan.append((x1[i], y1[i]/(x1[i]*math.log(x1[i]))))\n",
    "#     x, y = list(zip(*adjusted))\n",
    "#     plt.plot(x,y, label=\"Chan\")\n",
    "#     plt.legend\n",
    "\n",
    "#     res_graham, res_c_graham = timeAlgorithm(INC_CH_upper, generator)\n",
    "#     print(\"Graham counter\", res_c_graham)\n",
    "#     x, y = list(zip(*res_graham))\n",
    "#     x1, y1 = list(zip(*res_c_graham))\n",
    "\n",
    "#     adjusted = []\n",
    "#     adjusted_c_graham = []\n",
    "#     for i in range(len(y)):\n",
    "#         adjusted.append((x[i], y[i]/(x[i]*math.log(x[i]))))\n",
    "#         adjusted_c_graham.append((x1[i], y1[i]/(x1[i]*math.log(x1[i]))))\n",
    "#     x, y = list(zip(*adjusted))\n",
    "#     plt.plot(x,y, label=\"Graham\")\n",
    "\n",
    "#     res_gift, res_c_gift = timeAlgorithm(GIFT_CH, generator)\n",
    "#     print(\"Gift counter\", res_c_gift)\n",
    "#     x, y = list(zip(*res_gift))\n",
    "#     x1, y1 = list(zip(*res_c_gift))\n",
    "\n",
    "#     adjusted = []\n",
    "#     adjusted_c_gift = []\n",
    "#     for i in range(len(y)):\n",
    "#         adjusted.append((x[i], y[i]/(x[i]*math.log(x[i]))))\n",
    "#         adjusted_c_gift.append((x1[i], y1[i]/(x1[i]*math.log(x1[i]))))\n",
    "#     x, y = list(zip(*adjusted))\n",
    "#     plt.plot(x,y, label=\"Gift\")\n",
    "#     plt.title(generator.__name__)\n",
    "#     plt.legend()\n",
    "#     plt.show()\n",
    "\n",
    "#     x1,y1 = list(zip(*adjusted_c_gift))\n",
    "#     plt.plot(x1,y1, label=\"Gift_c\")\n",
    "#     x1,y1 = list(zip(*adjusted_c_chan))\n",
    "#     plt.plot(x1,y1, label=\"Chan_c\")\n",
    "#     x1, y1 = list(zip(*adjusted_c_graham))\n",
    "#     plt.plot(x1,y1, label=\"Graham_c\")\n",
    "#     plt.title(\"Counter\")\n",
    "#     plt.legend()\n",
    "#     plt.show()\n",
    "\n",
    "\n",
    "# test = lambda x : generate_fixed_sized_disk(x, 20)\n",
    "# experimentAndPlot(test)\n",
    "# experimentAndPlot(generate_square)\n",
    "# print(counter_left_turn)\n",
    "# experimentAndPlot(generate_circle_circumference)\n",
    "# experimentAndPlot(generate_circle)\n",
    "# experimentAndPlot(generate_fixed_sized_disk(h=10, n=1000))"
   ]
  },
  {
   "cell_type": "code",
   "execution_count": 56,
   "metadata": {},
   "outputs": [
    {
     "name": "stdout",
     "output_type": "stream",
     "text": [
      "{'CH_CH': ([[8, 0.00039005279541015625], [16, 0.0], [32, 0.0], [64, 0.0011136531829833984], [128, 0.0009963512420654297], [256, 0.001605987548828125], [512, 0.004506349563598633], [1024, 0.009237051010131836], [2048, 0.015796899795532227]], [[8, 33], [16, 64], [32, 130], [64, 279], [128, 563], [256, 1158], [512, 2450], [1024, 4044], [2048, 10798]]), 'INC_CH': ([[8, 0.0], [16, 0.0], [32, 0.0], [64, 0.0], [128, 0.0], [256, 0.000997781753540039], [512, 0.0013225078582763672], [1024, 0.003387928009033203], [2048, 0.009965181350708008]], [[8, 17], [16, 43], [32, 109], [64, 232], [128, 490], [256, 1006], [512, 2023], [1024, 4067], [2048, 8164]]), 'GIFT_CH': ([[8, 0.0], [16, 0.0], [32, 0.0], [64, 0.0009975433349609375], [128, 0.0009965896606445312], [256, 0.0006964206695556641], [512, 0.003990888595581055], [1024, 0.005474567413330078], [2048, 0.01649332046508789]], [[8, 27], [16, 84], [32, 265], [64, 638], [128, 1800], [256, 2750], [512, 8056], [1024, 12210], [2048, 42777]])}\n"
     ]
    }
   ],
   "source": [
    "runAndPlot(generate_square, 12)\n"
   ]
  },
  {
   "cell_type": "code",
   "execution_count": null,
   "metadata": {},
   "outputs": [],
   "source": [
    "for i in range(9,10):\n",
    "    print(i)\n",
    "    for j in range(100):\n",
    "        # print(i)\n",
    "        pts = generate_square(2**i)\n",
    "        UH_graham = INC_CH_upper(pts)\n",
    "        UH_chan = CH_CH(pts)\n",
    "        UH_gift = GIFT_CH(pts)\n",
    "        H_graham = INC_CH(pts)\n",
    "        H_gift = GIFT_CH(pts)\n",
    "        if(UH_graham!=UH_chan[:-1]):\n",
    "            print(UH_graham)\n",
    "            print(UH_chan)\n",
    "        assert(UH_graham==UH_chan[:-1])\n",
    "        assert(list(dict.fromkeys(H_graham))==list(dict.fromkeys(H_gift)))"
   ]
  },
  {
   "cell_type": "code",
   "execution_count": null,
   "metadata": {},
   "outputs": [],
   "source": [
    "import numpy as np\n",
    "arr = np.genfromtxt('failing_case.txt', delimiter=' ')    \n",
    "pts = arr.tolist()\n",
    "print(pts)"
   ]
  },
  {
   "cell_type": "code",
   "execution_count": null,
   "metadata": {},
   "outputs": [],
   "source": [
    "p = [0.1847807375594075, 0.15663034943280751]\n",
    "UH_chan = CH_CH(pts)\n",
    "hull = INC_CH_upper(pts)\n",
    "\n",
    "tangent_points = compute_tangent(hull, p)\n",
    "tangent_points_bin = compute_tangent_binary(hull, p)\n",
    "\n",
    "print(hull)\n",
    "print(tangent_points)\n",
    "print(tangent_points_bin)\n"
   ]
  },
  {
   "cell_type": "code",
   "execution_count": null,
   "metadata": {
    "scrolled": false
   },
   "outputs": [],
   "source": [
    "n = 100\n",
    "h = 12\n",
    "import math\n",
    "m = math.ceil(n/h)\n",
    "points = [i for i in range(n)]\n",
    "[len(points[h*i:h*(i+1)]) for i in range(m) ]"
   ]
  },
  {
   "cell_type": "code",
   "execution_count": null,
   "metadata": {},
   "outputs": [],
   "source": [
    "upper_hulls = [[(1,2),(3,4)],[(5,6),(7,8)]]\n",
    "[p for hull in upper_hulls for p in hull]"
   ]
  },
  {
   "cell_type": "code",
   "execution_count": null,
   "metadata": {},
   "outputs": [],
   "source": [
    "def compute_tangent(pts, p):\n",
    "    q = pts[0] if not pts[0] == p else pts[1]\n",
    "    for z in pts:\n",
    "        if z == q or z == p:\n",
    "            continue\n",
    "        if not left_turn(p,z,q):\n",
    "            q = z\n",
    "    return q\n",
    "\n",
    "pts = generate_square(10)\n",
    "p = min(pts)\n",
    "ch = [min(pts),compute_tangent(pts,p)]\n",
    "plot(pts,ch)"
   ]
  }
 ],
 "metadata": {
  "interpreter": {
   "hash": "c1c4ada40c26a7bd7c0630a7e50cf5a02a3f4dae7aa994c6307f04e05b2a8a1d"
  },
  "kernelspec": {
   "display_name": "Python 3.9.7 64-bit",
   "name": "python3"
  },
  "language_info": {
   "codemirror_mode": {
    "name": "ipython",
    "version": 3
   },
   "file_extension": ".py",
   "mimetype": "text/x-python",
   "name": "python",
   "nbconvert_exporter": "python",
   "pygments_lexer": "ipython3",
   "version": "3.9.7"
  }
 },
 "nbformat": 4,
 "nbformat_minor": 5
}
