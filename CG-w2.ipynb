{
 "cells": [
  {
   "cell_type": "code",
   "execution_count": 1,
   "metadata": {},
   "outputs": [
    {
     "name": "stdout",
     "output_type": "stream",
     "text": [
      "28 errors\n",
      "142234 errors\n",
      "281273 errors\n"
     ]
    }
   ],
   "source": [
    "import random\n",
    "import matplotlib.pyplot as plt\n",
    "\n",
    "def left_turn1(p1,p2,p3):\n",
    "    x1,y1 = p1\n",
    "    x2,y2 = p2\n",
    "    x3,y3 = p3\n",
    "    return x1*(y2-y3)+x2*(y3-y1)+x3*(y1-y2) >= 0\n",
    "def left_turn2(p1,p2,p3):\n",
    "    x1,y1 = p1\n",
    "    x2,y2 = p2\n",
    "    x3,y3 = p3\n",
    "    return x1*y2-x1*y3+x2*y3-x2*y1+x3*y1-x3*y2 >= 0\n",
    "def left_turn3(p1,p2,p3):\n",
    "    x1,y1 = p1\n",
    "    x2,y2 = p2\n",
    "    x3,y3 = p3\n",
    "    return x1*y2+x2*y3+x3*y1-x1*y3-x2*y1-x3*y2 >= 0\n",
    "\n",
    "def poly_test(n):\n",
    "    x,y = 0,0\n",
    "    resx = []\n",
    "    resy = []\n",
    "    for i in range(n):\n",
    "        x += random.uniform(0, 1)\n",
    "        y = x**2 #<-- also a source of error\n",
    "        resx.append(x)\n",
    "        resy.append(y)\n",
    "    return resx,resy\n",
    "\n",
    "def left_turn_test(left_turn,xvals,yvals,n):\n",
    "    #xvals,yvals = poly_test(n)\n",
    "    errors = 0\n",
    "    for i in range(n-3):\n",
    "        if not left_turn( (xvals[i],yvals[i]),(xvals[i+1],yvals[i+1]),(xvals[i+2],yvals[i+2]) ):\n",
    "            errors += 1\n",
    "    print(errors,\"errors\")\n",
    "\n",
    "n = 1000000\n",
    "xvals,yvals = poly_test(n)\n",
    "left_turn_test(left_turn1,xvals,yvals,n)\n",
    "left_turn_test(left_turn2,xvals,yvals,n)\n",
    "left_turn_test(left_turn3,xvals,yvals,n)"
   ]
  },
  {
   "cell_type": "code",
   "execution_count": 2,
   "metadata": {},
   "outputs": [
    {
     "name": "stdout",
     "output_type": "stream",
     "text": [
      "done 324\n"
     ]
    }
   ],
   "source": [
    "def float_test():\n",
    "    n = 1\n",
    "    while 10**(-n) != 10**(-(n+1)):\n",
    "        n += 1\n",
    "    print(\"done\",n)\n",
    "float_test()"
   ]
  },
  {
   "cell_type": "code",
   "execution_count": 3,
   "metadata": {},
   "outputs": [],
   "source": [
    "#setup: f1 = m1*2^x1, f2 = m2*2^x2, mi 24 bits, xi 8 bits\n",
    "#q1: how many bits for f1*f2?\n",
    "#A1: f1f2 = m1m2*2^(x1+x2), 47 and 9 (sign bit)\n",
    "#q2: how many bits for f1+f2?\n",
    "#A2: f1+f2 = m1 2^x1 + m2 2^x2\n",
    "#2**(23+128) = 2**(151) largest number\n",
    "#2**(-128) smallest number\n",
    "#279 in total"
   ]
  },
  {
   "cell_type": "code",
   "execution_count": 56,
   "metadata": {},
   "outputs": [
    {
     "data": {
      "image/png": "[encoded data removed]",
      "text/plain": [
       "<Figure size 432x288 with 1 Axes>"
      ]
     },
     "metadata": {
      "needs_background": "light"
     },
     "output_type": "display_data"
    }
   ],
   "source": [
    "import random\n",
    "\n",
    "def convex_hull(pointss):\n",
    "    points = sorted(pointss)\n",
    "    upper = points[0:2]\n",
    "    for p in points[2:]:\n",
    "        while len(upper)>=2 and left_turn1(upper[-2], upper[-1], p):\n",
    "            upper.pop()\n",
    "        upper.append(p)\n",
    "    points.reverse()\n",
    "    lower = points[0:2]\n",
    "    for p in points[2:]:\n",
    "        while len(lower)>=2 and left_turn1(lower[-2], lower[-1], p):\n",
    "            lower.pop()\n",
    "        lower.append(p)\n",
    "    return upper + lower\n",
    "\n",
    "def plot(random_points,ch):\n",
    "    plt.plot(*list(zip(*random_points)),\"r.\")\n",
    "    plt.plot(*list(zip(*ch)),\"g-\")\n",
    "\n",
    "n = 15\n",
    "random_points = [ (random.uniform(0, 1),random.uniform(0, 1)) for i in range(n) ]\n",
    "ch = convex_hull(random_points)\n",
    "plot(random_points,ch)"
   ]
  },
  {
   "cell_type": "code",
   "execution_count": 57,
   "metadata": {},
   "outputs": [
    {
     "name": "stdout",
     "output_type": "stream",
     "text": [
      "22\n"
     ]
    },
    {
     "data": {
      "image/png": "[encoded data removed]",
      "text/plain": [
       "<Figure size 432x288 with 1 Axes>"
      ]
     },
     "metadata": {
      "needs_background": "light"
     },
     "output_type": "display_data"
    }
   ],
   "source": [
    "n = 20\n",
    "x,y = poly_test(n)\n",
    "random_points = list(zip(x,y))\n",
    "ch = convex_hull(random_points)\n",
    "plot(random_points,ch)\n",
    "print(len(ch))"
   ]
  },
  {
   "cell_type": "code",
   "execution_count": 5,
   "metadata": {},
   "outputs": [
    {
     "ename": "SyntaxError",
     "evalue": "unexpected EOF while parsing (<ipython-input-5-1cd120f6f0eb>, line 2)",
     "output_type": "error",
     "traceback": [
      "\u001b[1;36m  File \u001b[1;32m\"<ipython-input-5-1cd120f6f0eb>\"\u001b[1;36m, line \u001b[1;32m2\u001b[0m\n\u001b[1;33m    \u001b[0m\n\u001b[1;37m    ^\u001b[0m\n\u001b[1;31mSyntaxError\u001b[0m\u001b[1;31m:\u001b[0m unexpected EOF while parsing\n"
     ]
    }
   ],
   "source": [
    "def sidedness(p1,p2,q):\n",
    "    x1,y1 = p1\n",
    "    x2,y2 = p2\n",
    "    x3,y3 = q\n",
    "    side = x1*(y2-y3)+x2*(y3-y1)+x3*(y1-y2)\n",
    "    if side > 0:\n",
    "        return 1\n",
    "    else if side == 0:\n",
    "        return side\n",
    "    else\n",
    "        return -1\n",
    "\n",
    "def find_best_angle(points,p):\n",
    "    q = points[0] if not p == points[0] else points[1] \n",
    "    for potential_q in points:\n",
    "        side = sidedness(p,q,potential_q)\n",
    "        if side == 1 or (side == 0 and q < potential_q):\n",
    "            q = potential_q\n",
    "    return q\n",
    "\n",
    "def GIFT_CH(points):\n",
    "    p_left = min(points)\n",
    "    CH = [p_left]\n",
    "    \n",
    "    while not p_left == q:\n",
    "        \n",
    "    "
   ]
  }
 ],
 "metadata": {
  "kernelspec": {
   "display_name": "Python 3",
   "language": "python",
   "name": "python3"
  },
  "language_info": {
   "codemirror_mode": {
    "name": "ipython",
    "version": 3
   },
   "file_extension": ".py",
   "mimetype": "text/x-python",
   "name": "python",
   "nbconvert_exporter": "python",
   "pygments_lexer": "ipython3",
   "version": "3.8.1"
  }
 },
 "nbformat": 4,
 "nbformat_minor": 5
}
